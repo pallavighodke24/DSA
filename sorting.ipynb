{
 "cells": [
  {
   "cell_type": "markdown",
   "id": "9ef0ccc4-ae81-4be5-a7db-67f1e8ffdad2",
   "metadata": {},
   "source": [
    "Sorting Practice Questions solution"
   ]
  },
  {
   "cell_type": "markdown",
   "id": "6f234c43-8555-4b29-83af-d59430e28b2a",
   "metadata": {},
   "source": [
    "Problem 1.Given an array of n numbers, give an algorithm which gives the element appearing maximum\n",
    "number of times?"
   ]
  },
  {
   "cell_type": "code",
   "execution_count": 1,
   "id": "6c0b6c39-b2ed-411d-8400-dfab9ea4b5d3",
   "metadata": {},
   "outputs": [],
   "source": [
    "def max_occurring_element(arr):\n",
    "    # Initialize dictionary to keep track of count of each element\n",
    "    count_dict = {}\n",
    "\n",
    "    # Iterate through the array\n",
    "    for i in arr:\n",
    "        # If element is already in dictionary, increment its count\n",
    "        if i in count_dict:\n",
    "            count_dict[i] += 1\n",
    "        # If element is not in dictionary, add it with count 1\n",
    "        else:\n",
    "            count_dict[i] = 1\n",
    "\n",
    "    # Initialize max_count and max_element\n",
    "    max_count = 0\n",
    "    max_element = None\n",
    "\n",
    "    # Iterate through the dictionary\n",
    "    for element, count in count_dict.items():\n",
    "        # If current element's count is greater than max_count\n",
    "        if count > max_count:\n",
    "            # Update max_count and max_element\n",
    "            max_count = count\n",
    "            max_element = element\n",
    "\n",
    "    # Return the max_element\n",
    "    return max_element"
   ]
  },
  {
   "cell_type": "code",
   "execution_count": 3,
   "id": "6aa9be2e-be21-4aa8-baaa-758f61a632dd",
   "metadata": {},
   "outputs": [
    {
     "name": "stdout",
     "output_type": "stream",
     "text": [
      "8\n"
     ]
    }
   ],
   "source": [
    "arr = [1, 2, 3, 4, 5, 5, 6, 7, 8, 8, 8]\n",
    "print(max_occurring_element(arr))"
   ]
  },
  {
   "cell_type": "markdown",
   "id": "f8518015-88cb-4c90-8282-4f35e7698a42",
   "metadata": {},
   "source": [
    "Problem 2 : We are given a list of n-1 integers and these integers are in the range of 1 to n . There are no\n",
    "duplicates in the list. One of the integers is missing in the list. Give an algorithm to find that element Ex:\n",
    "[1,2,4,6,3,7,8] 5 is the missing num."
   ]
  },
  {
   "cell_type": "code",
   "execution_count": 4,
   "id": "11d0b322-e804-4f37-a3d2-a3a0c7b25de4",
   "metadata": {},
   "outputs": [],
   "source": [
    "def missing_number(arr):\n",
    "    # Calculate the sum of all integers from 1 to n\n",
    "    n = len(arr) + 1\n",
    "    total_sum = n * (n + 1) // 2\n",
    "\n",
    "    # Calculate the sum of the given list\n",
    "    arr_sum = sum(arr)\n",
    "\n",
    "    # Find the missing number\n",
    "    missing_num = total_sum - arr_sum\n",
    "\n",
    "    # Return the missing number\n",
    "    return missing_num"
   ]
  },
  {
   "cell_type": "code",
   "execution_count": 5,
   "id": "3d8ba3ad-72f6-479d-9de7-a3e3c5792912",
   "metadata": {},
   "outputs": [
    {
     "name": "stdout",
     "output_type": "stream",
     "text": [
      "5\n"
     ]
    }
   ],
   "source": [
    "arr = [1, 2, 4, 6, 3, 7, 8]\n",
    "print(missing_number(arr))"
   ]
  },
  {
   "cell_type": "markdown",
   "id": "f782c893-924c-40fe-9dd7-6cd0b583b168",
   "metadata": {},
   "source": [
    "Problem 3 : Given an array of n positive numbers. All numbers occurs even number of times except 1 which\n",
    "occurs odd number of times. Find that number in O(n) time and O(1) space. Ex: [1,2,3,2,3,1,3]. 3 is repeats odd\n",
    "times."
   ]
  },
  {
   "cell_type": "code",
   "execution_count": 6,
   "id": "75f90cb7-2902-4cc8-9123-26865488cded",
   "metadata": {},
   "outputs": [],
   "source": [
    "def odd_occurring_number(arr):\n",
    "    # Initialize XOR of all elements in the array\n",
    "    xor = 0\n",
    "    for num in arr:\n",
    "        xor ^= num\n",
    "\n",
    "    # Return the odd occurring number\n",
    "    return xor"
   ]
  },
  {
   "cell_type": "code",
   "execution_count": 7,
   "id": "bc192508-c8a0-49e0-9432-b9c6ca323b09",
   "metadata": {},
   "outputs": [
    {
     "name": "stdout",
     "output_type": "stream",
     "text": [
      "3\n"
     ]
    }
   ],
   "source": [
    "arr = [1, 2, 3, 2, 3, 1, 3]\n",
    "print(odd_occurring_number(arr)) "
   ]
  },
  {
   "cell_type": "markdown",
   "id": "e973c1dc-6e57-42f2-bea7-1fc59277963b",
   "metadata": {},
   "source": [
    "Problem 4 : Given an array of n elements. Find two elements in the array such that their sum is equal to given\n",
    "element K."
   ]
  },
  {
   "cell_type": "code",
   "execution_count": 9,
   "id": "7ba99dd9-b9f4-447a-8ee6-d3ad15e7118f",
   "metadata": {},
   "outputs": [],
   "source": [
    "def find_two_sum(arr, K):\n",
    "    # Initialize an empty dictionary\n",
    "    freq = {}\n",
    "\n",
    "    # Iterate through the array\n",
    "    for num in arr:\n",
    "        # Calculate the complement of the current number\n",
    "        complement = K - num\n",
    "\n",
    "        # If the complement is in the dictionary\n",
    "        if complement in freq:\n",
    "            # Return the two numbers\n",
    "            return num, complement\n",
    "\n",
    "        # If the current number is not in the dictionary, add it with a count of 1\n",
    "        if num not in freq:\n",
    "            freq[num] = 1\n",
    "        else:\n",
    "            freq[num] += 1\n",
    "\n",
    "    # If no two numbers were found, return None\n",
    "    return None"
   ]
  },
  {
   "cell_type": "code",
   "execution_count": 10,
   "id": "510bbf26-8c47-404f-82e6-c053914d5d6c",
   "metadata": {},
   "outputs": [
    {
     "name": "stdout",
     "output_type": "stream",
     "text": [
      "(4, 3)\n"
     ]
    }
   ],
   "source": [
    "arr = [1, 2, 3, 4, 5]\n",
    "K = 7\n",
    "print(find_two_sum(arr, K))"
   ]
  },
  {
   "cell_type": "markdown",
   "id": "825f8350-40fa-4757-8ed9-06cf22d523fe",
   "metadata": {},
   "source": [
    "Problem 5 : Given an array of both positive and negative numbers, find two numbers such that their sum is\n",
    "closest to 0. Ex: [ 1 ,60 ,-10, 70, -80,85]. Ans : -80,85."
   ]
  },
  {
   "cell_type": "code",
   "execution_count": 11,
   "id": "15f339ed-d404-4859-b8b9-a9be5b24bd76",
   "metadata": {},
   "outputs": [
    {
     "name": "stdout",
     "output_type": "stream",
     "text": [
      "Closest pair: (-80, 85)\n"
     ]
    }
   ],
   "source": [
    "def closest_to_zero(arr):\n",
    "    arr.sort()  # Sort the array\n",
    "\n",
    "    # Initialize pointers\n",
    "    left = 0\n",
    "    right = len(arr) - 1\n",
    "\n",
    "    min_sum = float('inf')\n",
    "    closest_pair = None\n",
    "\n",
    "    # Iterate through the array\n",
    "    while left < right:\n",
    "        current_sum = arr[left] + arr[right]\n",
    "\n",
    "        # Check if the current sum is closer to zero\n",
    "        if abs(current_sum) < abs(min_sum):\n",
    "            min_sum = current_sum\n",
    "            closest_pair = (arr[left], arr[right])\n",
    "\n",
    "        # Move pointers\n",
    "        if current_sum < 0:\n",
    "            left += 1\n",
    "        elif current_sum > 0:\n",
    "            right -= 1\n",
    "        else:\n",
    "            return closest_pair  # Found a pair with sum 0\n",
    "\n",
    "    return closest_pair\n",
    "\n",
    "# Test the function\n",
    "arr = [1, 60, -10, 70, -80, 85]\n",
    "result = closest_to_zero(arr)\n",
    "print(\"Closest pair:\", result)"
   ]
  },
  {
   "cell_type": "markdown",
   "id": "ec9d4613-2c64-4752-836e-3845dfc46ed8",
   "metadata": {},
   "source": [
    "Problem 6 : Given an array of n elements . Find three elements such that their sum is equal to the given\n",
    "number."
   ]
  },
  {
   "cell_type": "code",
   "execution_count": 12,
   "id": "b076c4bd-90f4-4b11-a514-db0551007c24",
   "metadata": {},
   "outputs": [
    {
     "name": "stdout",
     "output_type": "stream",
     "text": [
      "Triplets with sum equal to 22 : [(4, 8, 10)]\n"
     ]
    }
   ],
   "source": [
    "def three_sum(arr, target):\n",
    "    arr.sort()\n",
    "    n = len(arr)\n",
    "    result = []\n",
    "\n",
    "    for i in range(n - 2):\n",
    "        left = i + 1\n",
    "        right = n - 1\n",
    "\n",
    "        while left < right:\n",
    "            current_sum = arr[i] + arr[left] + arr[right]\n",
    "\n",
    "            if current_sum == target:\n",
    "                result.append((arr[i], arr[left], arr[right]))\n",
    "                left += 1\n",
    "                right -= 1\n",
    "            elif current_sum < target:\n",
    "                left += 1\n",
    "            else:\n",
    "                right -= 1\n",
    "\n",
    "    return result\n",
    "\n",
    "# Test the function\n",
    "arr = [1, 4, 45, 6, 10, 8]\n",
    "target = 22\n",
    "result = three_sum(arr, target)\n",
    "print(\"Triplets with sum equal to\", target, \":\", result)"
   ]
  },
  {
   "cell_type": "markdown",
   "id": "cc991247-7f36-48bf-afdb-eef9950f23f1",
   "metadata": {},
   "source": [
    "Problem 7 : Given an array of n elements . Find three elements i, j, k in the array such that\n",
    "i * i + j * j = k*k."
   ]
  },
  {
   "cell_type": "code",
   "execution_count": 13,
   "id": "1ef9063a-1825-4fc1-aaaa-26c0b075e8d6",
   "metadata": {},
   "outputs": [
    {
     "name": "stdout",
     "output_type": "stream",
     "text": [
      "Triplet found: (5, 3, 4)\n"
     ]
    }
   ],
   "source": [
    "def find_triplet(arr):\n",
    "    arr.sort()\n",
    "    n = len(arr)\n",
    "\n",
    "    for i in range(n):\n",
    "        left = 0\n",
    "        right = n - 1\n",
    "\n",
    "        while left < right:\n",
    "            a = arr[i] * arr[i]\n",
    "            b = arr[left] * arr[left]\n",
    "            c = arr[right] * arr[right]\n",
    "\n",
    "            if a == b + c:\n",
    "                return (arr[i], arr[left], arr[right])\n",
    "            elif a < b + c:\n",
    "                right -= 1\n",
    "            else:\n",
    "                left += 1\n",
    "\n",
    "    return None\n",
    "\n",
    "# Test the function\n",
    "arr = [3, 1, 4, 6, 5]\n",
    "result = find_triplet(arr)\n",
    "if result:\n",
    "    print(\"Triplet found:\", result)\n",
    "else:\n",
    "    print(\"No such triplet exists.\")"
   ]
  },
  {
   "cell_type": "markdown",
   "id": "2fbf5aa5-b490-46ca-ad85-a859927dafc3",
   "metadata": {},
   "source": [
    "Problem 8 : An element is a majority if it appears more than n/2 times. Give an algorithm takes an array of n\n",
    "element as argument and identifies a majority (if it exists)."
   ]
  },
  {
   "cell_type": "code",
   "execution_count": 14,
   "id": "a6d46feb-7bf2-4057-96b3-1bbe48886e79",
   "metadata": {},
   "outputs": [
    {
     "name": "stdout",
     "output_type": "stream",
     "text": [
      "Majority element: 4\n"
     ]
    }
   ],
   "source": [
    "def find_majority(arr):\n",
    "    candidate = None\n",
    "    count = 0\n",
    "\n",
    "    # Find potential candidate\n",
    "    for num in arr:\n",
    "        if count == 0:\n",
    "            candidate = num\n",
    "            count = 1\n",
    "        elif candidate == num:\n",
    "            count += 1\n",
    "        else:\n",
    "            count -= 1\n",
    "\n",
    "    # Verify if the candidate is a true majority\n",
    "    count = 0\n",
    "    for num in arr:\n",
    "        if num == candidate:\n",
    "            count += 1\n",
    "\n",
    "    if count > len(arr) // 2:\n",
    "        return candidate\n",
    "    else:\n",
    "        return None\n",
    "\n",
    "# Test the function\n",
    "arr = [3, 3, 4, 2, 4, 4, 2, 4, 4]\n",
    "majority = find_majority(arr)\n",
    "if majority is not None:\n",
    "    print(\"Majority element:\", majority)\n",
    "else:\n",
    "    print(\"No majority element found.\")"
   ]
  },
  {
   "cell_type": "markdown",
   "id": "8bfe05dc-760f-4857-94fb-bcead16ec045",
   "metadata": {},
   "source": [
    "Problem 9 : Given n × n matrix, and in each row all 1’s are followed by 0’s. Find the row with the maximum\n",
    "number of 0’s."
   ]
  },
  {
   "cell_type": "code",
   "execution_count": 15,
   "id": "6fe13867-6405-4076-a204-e626deee8044",
   "metadata": {},
   "outputs": [
    {
     "name": "stdout",
     "output_type": "stream",
     "text": [
      "Row with maximum number of zeros: 3\n"
     ]
    }
   ],
   "source": [
    "def row_with_max_zeros(matrix):\n",
    "    max_zeros_row = -1\n",
    "    max_zeros_count = -1\n",
    "\n",
    "    for i, row in enumerate(matrix):\n",
    "        zeros_count = row.count(0)\n",
    "        if zeros_count > max_zeros_count:\n",
    "            max_zeros_count = zeros_count\n",
    "            max_zeros_row = i\n",
    "\n",
    "    return max_zeros_row\n",
    "\n",
    "# Test the function\n",
    "matrix = [\n",
    "    [1, 1, 1, 0, 0],\n",
    "    [1, 1, 0, 0, 0],\n",
    "    [1, 0, 0, 0, 0],\n",
    "    [0, 0, 0, 0, 0],\n",
    "    [1, 1, 1, 1, 0]\n",
    "]\n",
    "max_zeros_row = row_with_max_zeros(matrix)\n",
    "print(\"Row with maximum number of zeros:\", max_zeros_row)"
   ]
  },
  {
   "cell_type": "markdown",
   "id": "e508faa9-305c-4568-89a5-d42db32703b9",
   "metadata": {},
   "source": [
    "Problem 10 : Sort an array of 0’s, 1’s and 2’s [or R’s, G’s and B’s]: Given an array A[] consisting of 0’s, 1’s and\n",
    "2’s, give an algorithm for sorting A[].The algorithm should put all 0’s first, then all 1’s and finally all 2’s at the\n",
    "end. Example Input = {0,1,1,0,1,2,1,2,0,0,0,1}, Output = {0,0,0,0,0,1,1,1,1,1,2,2}"
   ]
  },
  {
   "cell_type": "code",
   "execution_count": 16,
   "id": "53d6b586-4307-4c06-b0aa-a23ad7333dc3",
   "metadata": {},
   "outputs": [
    {
     "name": "stdout",
     "output_type": "stream",
     "text": [
      "Sorted array: [0, 0, 0, 0, 0, 1, 1, 1, 1, 1, 2, 2]\n"
     ]
    }
   ],
   "source": [
    "def sort_colors(arr):\n",
    "    low = 0\n",
    "    mid = 0\n",
    "    high = len(arr) - 1\n",
    "\n",
    "    while mid <= high:\n",
    "        if arr[mid] == 0:\n",
    "            arr[low], arr[mid] = arr[mid], arr[low]\n",
    "            low += 1\n",
    "            mid += 1\n",
    "        elif arr[mid] == 1:\n",
    "            mid += 1\n",
    "        else:\n",
    "            arr[mid], arr[high] = arr[high], arr[mid]\n",
    "            high -= 1\n",
    "\n",
    "# Test the function\n",
    "arr = [0, 1, 1, 0, 1, 2, 1, 2, 0, 0, 0, 1]\n",
    "sort_colors(arr)\n",
    "print(\"Sorted array:\", arr)"
   ]
  },
  {
   "cell_type": "code",
   "execution_count": null,
   "id": "a7ebbca7-26cd-4b15-a9a6-72d687c9606c",
   "metadata": {},
   "outputs": [],
   "source": []
  }
 ],
 "metadata": {
  "kernelspec": {
   "display_name": "Python 3 (ipykernel)",
   "language": "python",
   "name": "python3"
  },
  "language_info": {
   "codemirror_mode": {
    "name": "ipython",
    "version": 3
   },
   "file_extension": ".py",
   "mimetype": "text/x-python",
   "name": "python",
   "nbconvert_exporter": "python",
   "pygments_lexer": "ipython3",
   "version": "3.10.8"
  }
 },
 "nbformat": 4,
 "nbformat_minor": 5
}
