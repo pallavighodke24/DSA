{
 "cells": [
  {
   "cell_type": "markdown",
   "id": "0be6b28d-2578-4baa-b266-9d5159897f2b",
   "metadata": {},
   "source": [
    "Recursssion Releation Assignment Solution"
   ]
  },
  {
   "cell_type": "markdown",
   "id": "36158a91-83a8-440e-8d7c-588b96dd5610",
   "metadata": {},
   "source": [
    "1.Find the values of T(2) for the recurrence relation T(n) = 3T(n-1) + 12n, given that T(0)=5."
   ]
  },
  {
   "cell_type": "code",
   "execution_count": 1,
   "id": "15c049fa-6742-418d-8a24-162e5a2663e0",
   "metadata": {},
   "outputs": [
    {
     "name": "stdout",
     "output_type": "stream",
     "text": [
      "T(n)=3T(n-1)+12n\n",
      "To find T(2) first we have to T(1).\n",
      "\n",
      "=>T(1)=3T(1-1)+12(1)\n",
      "  T(1)=3T(0)+12--( 1 )\n",
      "  We know that T(0)=5, substitute this value in eq(1)\n",
      "  T(1)=3(5)+12\n",
      "  T(1)=15+12\n",
      "  __T(1)=27__\n",
      "\n",
      "=>T(2)=3T(2-1)+12(2)\n",
      "  T(2)=3T(1)+24--( 2 )\n",
      "  We know that T(1)=27, substitute this value in eq(2)\n",
      "  T(2)=3(27)+24\n",
      "  T(2)=81+24\n",
      "  __T(2)=105__\n",
      "  \n",
      "  The value of T(2) is 105.\n"
     ]
    }
   ],
   "source": [
    "print('''T(n)=3T(n-1)+12n\n",
    "To find T(2) first we have to T(1).\n",
    "\n",
    "=>T(1)=3T(1-1)+12(1)\n",
    "  T(1)=3T(0)+12--( 1 )\n",
    "  We know that T(0)=5, substitute this value in eq(1)\n",
    "  T(1)=3(5)+12\n",
    "  T(1)=15+12\n",
    "  __T(1)=27__\n",
    "\n",
    "=>T(2)=3T(2-1)+12(2)\n",
    "  T(2)=3T(1)+24--( 2 )\n",
    "  We know that T(1)=27, substitute this value in eq(2)\n",
    "  T(2)=3(27)+24\n",
    "  T(2)=81+24\n",
    "  __T(2)=105__\n",
    "  \n",
    "  The value of T(2) is 105.''')"
   ]
  },
  {
   "cell_type": "markdown",
   "id": "f8b23985-b78c-4d50-b17c-f2b725ddc037",
   "metadata": {},
   "source": [
    "2.Given a recurrence relation, solve it using the substitution method:\n",
    "a. T(n) = T(n-1) + c\n",
    "b. T(n) = 2T(n/2) + n\n",
    "c. T(n) = 2T(n/2) + c\n",
    "d. T(n) = T(n/2) + c"
   ]
  },
  {
   "cell_type": "code",
   "execution_count": 2,
   "id": "d65b61c2-32fd-4257-bfb4-ed3e71a6525e",
   "metadata": {},
   "outputs": [
    {
     "name": "stdout",
     "output_type": "stream",
     "text": [
      "T(n)=T(n-1)+c--( 1 )\n",
      "When we substitute (n-1) in n.\n",
      "T(n-1)=T(n-1-1)+c\n",
      "T(n-1)=T(n-2)+c--( 2 )\n",
      "Substitute eq(2) in eq(1).\n",
      "T(n)=T(T(n-2)+c)+c\n",
      "T(n)=T(n-2)+2c--( 3 )\n",
      "T(n)=T(n-3)+3c--( 4 )\n",
      "After repeating k steps.\n",
      "T(n)=T(n-k)+kc--( 5 )\n",
      "When n-k=0 and n=k.\n",
      "T(n)=T(0)+nc\n",
      "\n",
      "So, the final recursion relation for T(n)=T(n-1)+c is T(n)=T0+nc. Where T0 is initial value at n=0.\n"
     ]
    }
   ],
   "source": [
    "print('''T(n)=T(n-1)+c--( 1 )\n",
    "When we substitute (n-1) in n.\n",
    "T(n-1)=T(n-1-1)+c\n",
    "T(n-1)=T(n-2)+c--( 2 )\n",
    "Substitute eq(2) in eq(1).\n",
    "T(n)=T(T(n-2)+c)+c\n",
    "T(n)=T(n-2)+2c--( 3 )\n",
    "T(n)=T(n-3)+3c--( 4 )\n",
    "After repeating k steps.\n",
    "T(n)=T(n-k)+kc--( 5 )\n",
    "When n-k=0 and n=k.\n",
    "T(n)=T(0)+nc\n",
    "\n",
    "So, the final recursion relation for T(n)=T(n-1)+c is T(n)=T0+nc. Where T0 is initial value at n=0.''')"
   ]
  },
  {
   "cell_type": "code",
   "execution_count": 1,
   "id": "21f1ab4e-b7e1-478e-94db-547d92a7b532",
   "metadata": {},
   "outputs": [
    {
     "name": "stdout",
     "output_type": "stream",
     "text": [
      "T(n)=2T(n/2)+n\n",
      "Assume T(n)=f(n).\n",
      "f(n)=2f(n/2)+1\n",
      "Divide both sides with n.\n",
      "f(n)/n=(2f(n/2)/n)+1\n",
      "Divide both sides with 2.\n",
      "f(n)/2n=(f(n/2)/n)+1/2\n",
      "f(n)/n=(f(n/2)/n/2)+1/2\n",
      "Consider 1/2 as a constant.\n",
      "We conclude that T(n)=f(n).\n",
      "\n",
      "The solution is T(n)=nlog(n).\n"
     ]
    }
   ],
   "source": [
    "print('''T(n)=2T(n/2)+n\n",
    "Assume T(n)=f(n).\n",
    "f(n)=2f(n/2)+1\n",
    "Divide both sides with n.\n",
    "f(n)/n=(2f(n/2)/n)+1\n",
    "Divide both sides with 2.\n",
    "f(n)/2n=(f(n/2)/n)+1/2\n",
    "f(n)/n=(f(n/2)/n/2)+1/2\n",
    "Consider 1/2 as a constant.\n",
    "We conclude that T(n)=f(n).\n",
    "\n",
    "The solution is T(n)=nlog(n).''')"
   ]
  },
  {
   "cell_type": "code",
   "execution_count": 2,
   "id": "51e68254-7224-4f10-ad92-1db5ed145079",
   "metadata": {},
   "outputs": [
    {
     "name": "stdout",
     "output_type": "stream",
     "text": [
      "T(n)=2T(n/2)+c--( 1 )\n",
      "T(n)=2^2T(n/2^2)+2c--( 2 )\n",
      "T(n)=2^3T(n/2^3)+3c--( 3 )\n",
      "After continuousely do k times.\n",
      "T(n)=2^kT(n/2^k)+nc--( 4 )\n",
      "n/2^k=2, n=2^k+1\n",
      "log(n)=log(2^k+1)\n",
      "k+1=log2(n)\n",
      "2^k+n-2\n",
      "2^k=n/2\n",
      "n/2+n-2\n",
      "3n/2-2\n",
      "O(n)\n"
     ]
    }
   ],
   "source": [
    "print('''T(n)=2T(n/2)+c--( 1 )\n",
    "T(n)=2^2T(n/2^2)+2c--( 2 )\n",
    "T(n)=2^3T(n/2^3)+3c--( 3 )\n",
    "After continuousely do k times.\n",
    "T(n)=2^kT(n/2^k)+nc--( 4 )\n",
    "n/2^k=2, n=2^k+1\n",
    "log(n)=log(2^k+1)\n",
    "k+1=log2(n)\n",
    "2^k+n-2\n",
    "2^k=n/2\n",
    "n/2+n-2\n",
    "3n/2-2\n",
    "O(n)''')"
   ]
  },
  {
   "cell_type": "code",
   "execution_count": null,
   "id": "7997a461-58ab-4024-8e8a-ecf3a4c4e72e",
   "metadata": {},
   "outputs": [],
   "source": []
  },
  {
   "cell_type": "markdown",
   "id": "58461614-f640-4738-aa89-9f3d6125ea4f",
   "metadata": {},
   "source": [
    "3.Given a rec%rrence relation, solve it %sing the rec%rsive tree approach:\n",
    "a. T(n) = 2T(n-1) +1\n",
    "b. T(n) = 2T(n/2) + n"
   ]
  },
  {
   "cell_type": "code",
   "execution_count": 3,
   "id": "b26037ad-a5f1-4bcf-b7b1-7a4b9e19bdd1",
   "metadata": {},
   "outputs": [
    {
     "name": "stdout",
     "output_type": "stream",
     "text": [
      "T(n)=2T(n-1)+1--( 1 )\n",
      "When we substitute n-1 in n.\n",
      "T(n-1)=2T(n-2)+1--( 2 )\n",
      "substitute eq(2) in eq(1).\n",
      "If we do continuesly like this in k times.\n",
      "we get  1,2,2^2,2^3,2^4,...,2^n\n",
      "This is geometric series.\n",
      "The formula for  geametric series is a,ar,ar^2,ar^3,ar^4,.....,ar^n=a((r^k+1)-1/(r-1))\n",
      "In our series a=1, r=2\n",
      "(2^k+1)-1\n",
      "We know n-k=0,n=k\n",
      "(2^n+1)-1\n",
      "Finally I am concluding that O(2^n).\n"
     ]
    }
   ],
   "source": [
    "print('''T(n)=2T(n-1)+1--( 1 )\n",
    "When we substitute n-1 in n.\n",
    "T(n-1)=2T(n-2)+1--( 2 )\n",
    "substitute eq(2) in eq(1).\n",
    "If we do continuesly like this in k times.\n",
    "we get  1,2,2^2,2^3,2^4,...,2^n\n",
    "This is geometric series.\n",
    "The formula for  geametric series is a,ar,ar^2,ar^3,ar^4,.....,ar^n=a((r^k+1)-1/(r-1))\n",
    "In our series a=1, r=2\n",
    "(2^k+1)-1\n",
    "We know n-k=0,n=k\n",
    "(2^n+1)-1\n",
    "Finally I am concluding that O(2^n).''')"
   ]
  },
  {
   "cell_type": "code",
   "execution_count": 4,
   "id": "b4613a0f-d9ac-4323-92a8-771522fb8bdf",
   "metadata": {},
   "outputs": [
    {
     "name": "stdout",
     "output_type": "stream",
     "text": [
      "T(n)=2T(n/2)+cn\n",
      "T(n)=T(n/2)+T(n/2)+cn\n",
      "n-->n/2 , n/2\n",
      "n/2 , n/2-->n/2^2 n/2^2 , n/2^2 n/2^2\n",
      "After continously doing this k times it will become.\n",
      "n/2^k n/2^k n/2^k n/2^k.....n/2^k\n",
      "k.cn\n",
      "n/2^k=1, n=2^k, k=log(n)\n",
      "log(n).cn\n",
      "O(nlogn)\n"
     ]
    }
   ],
   "source": [
    "print('''T(n)=2T(n/2)+cn\n",
    "T(n)=T(n/2)+T(n/2)+cn\n",
    "n-->n/2 , n/2\n",
    "n/2 , n/2-->n/2^2 n/2^2 , n/2^2 n/2^2\n",
    "After continously doing this k times it will become.\n",
    "n/2^k n/2^k n/2^k n/2^k.....n/2^k\n",
    "k.cn\n",
    "n/2^k=1, n=2^k, k=log(n)\n",
    "log(n).cn\n",
    "O(nlogn)''')"
   ]
  },
  {
   "cell_type": "code",
   "execution_count": null,
   "id": "88a382e6-7856-4887-8393-00c67a3f92d3",
   "metadata": {},
   "outputs": [],
   "source": []
  }
 ],
 "metadata": {
  "kernelspec": {
   "display_name": "Python 3 (ipykernel)",
   "language": "python",
   "name": "python3"
  },
  "language_info": {
   "codemirror_mode": {
    "name": "ipython",
    "version": 3
   },
   "file_extension": ".py",
   "mimetype": "text/x-python",
   "name": "python",
   "nbconvert_exporter": "python",
   "pygments_lexer": "ipython3",
   "version": "3.10.8"
  }
 },
 "nbformat": 4,
 "nbformat_minor": 5
}
