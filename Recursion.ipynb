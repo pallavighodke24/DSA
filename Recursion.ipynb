{
 "cells": [
  {
   "cell_type": "markdown",
   "id": "aea6e997-acf6-4449-8c3b-ec07e4f0aee4",
   "metadata": {},
   "source": [
    "Recursion Assignment Solution"
   ]
  },
  {
   "cell_type": "markdown",
   "id": "4b4ff0d3-6d50-42d9-85cf-9eaef1981556",
   "metadata": {},
   "source": [
    "Q.1Can you explain the logic and working of the Tower of Hanoi algorithm by writing a Java program?\n",
    "How does the recursion work, and how are the movements of disks between rods accomplished?"
   ]
  },
  {
   "cell_type": "code",
   "execution_count": 1,
   "id": "e706d992-3859-4ef9-811e-81ef1def1012",
   "metadata": {},
   "outputs": [
    {
     "name": "stdout",
     "output_type": "stream",
     "text": [
      "Steps to solve Tower of Hanoi with 3 disks:\n",
      "Move disk 1 from rod A to rod C\n",
      "Move disk 2 from rod A to rod B\n",
      "Move disk 1 from rod C to rod B\n",
      "Move disk 3 from rod A to rod C\n",
      "Move disk 1 from rod B to rod A\n",
      "Move disk 2 from rod B to rod C\n",
      "Move disk 1 from rod A to rod C\n"
     ]
    }
   ],
   "source": [
    "def hanoi(n, source, target, auxiliary):\n",
    "    if n == 1:\n",
    "        print(f\"Move disk 1 from rod {source} to rod {target}\")\n",
    "        return\n",
    "\n",
    "    hanoi(n - 1, source, auxiliary, target)\n",
    "\n",
    "    print(f\"Move disk {n} from rod {source} to rod {target}\")\n",
    "\n",
    "    hanoi(n - 1, auxiliary, target, source)\n",
    "\n",
    "if __name__ == \"__main__\":\n",
    "    num_disks = 3  \n",
    "    source_rod = 'A'\n",
    "    target_rod = 'C'\n",
    "    auxiliary_rod = 'B'\n",
    "\n",
    "    print(f\"Steps to solve Tower of Hanoi with {num_disks} disks:\")\n",
    "    hanoi(num_disks, source_rod, target_rod, auxiliary_rod)"
   ]
  },
  {
   "cell_type": "markdown",
   "id": "0ee894ae-7950-4601-bf53-f962cd04c03a",
   "metadata": {},
   "source": [
    "Q.2Given two strings word1 and word2, return the minimum number of operations required to convert word1\n",
    "to word2.\n",
    "Example 1:\n",
    "Input: word1 = \"horse\", word2 = \"ros\"\n",
    "Output: 3\n",
    "Explanation:\n",
    "horse -> rorse (replace 'h' with 'r')\n",
    "rorse -> rose (remove 'r')\n",
    "rose -> ros (remove 'e')\n",
    "Example 2:\n",
    "Input: word1 = \"intention\", word2 = \"execution\"\n",
    "Output: 5\n",
    "Explanation:\n",
    "intention -> inention (remove 't')\n",
    "inention -> enention (replace 'i' with 'e')\n",
    "enention -> exention (replace 'n' with 'x')\n",
    "exention -> exection (replace 'n' with 'c')\n",
    "exection -> execution (insert 'u')"
   ]
  },
  {
   "cell_type": "code",
   "execution_count": 6,
   "id": "ffe6bb11-d2b8-40be-a5fe-be9e86fd57a2",
   "metadata": {},
   "outputs": [
    {
     "name": "stdin",
     "output_type": "stream",
     "text": [
      "Enter String 1:-  horse\n",
      "Enter String 2:-  ros\n"
     ]
    },
    {
     "name": "stdout",
     "output_type": "stream",
     "text": [
      "3\n"
     ]
    }
   ],
   "source": [
    "def min_operations(word1, word2):\n",
    "    m, n = len(word1), len(word2)\n",
    "\n",
    "    dp = [[0] * (n + 1) for _ in range(m + 1)]\n",
    "\n",
    "    for i in range(m + 1):\n",
    "        dp[i][0] = i\n",
    "    for j in range(n + 1):\n",
    "        dp[0][j] = j\n",
    "\n",
    "    for i in range(1, m + 1):\n",
    "        for j in range(1, n + 1):\n",
    "            if word1[i - 1] == word2[j - 1]:\n",
    "                dp[i][j] = dp[i - 1][j - 1]\n",
    "            else:\n",
    "                dp[i][j] = 1 + min(dp[i - 1][j],        \n",
    "                                  dp[i][j - 1],        \n",
    "                                  dp[i - 1][j - 1])    \n",
    "\n",
    "    return dp[m][n]\n",
    "\n",
    "word1 = input(\"Enter String 1:- \")\n",
    "word2 = input(\"Enter String 2:- \")\n",
    "result = min_operations(word1, word2)\n",
    "print(f\"{result}\")"
   ]
  },
  {
   "cell_type": "markdown",
   "id": "d5a3a293-e1a7-4785-b5eb-631a56981fb5",
   "metadata": {},
   "source": [
    "Q.3 Print the max value of the array [ 13, 1, -3, 22, 5]."
   ]
  },
  {
   "cell_type": "code",
   "execution_count": 3,
   "id": "eb677b7b-135b-4f1c-b834-306b9e02996d",
   "metadata": {},
   "outputs": [
    {
     "name": "stdout",
     "output_type": "stream",
     "text": [
      "22\n"
     ]
    }
   ],
   "source": [
    "arr=[13, 1, -3, 22, 5]\n",
    "print(max(arr))"
   ]
  },
  {
   "cell_type": "markdown",
   "id": "b5c416e2-cd32-4bab-bd2f-000b310098bb",
   "metadata": {},
   "source": [
    "Q.4 Find the sum of the values of the array [92, 23, 15, -20, 10]."
   ]
  },
  {
   "cell_type": "code",
   "execution_count": 4,
   "id": "e578e4ba-de5c-48db-adfa-68ae0f548114",
   "metadata": {},
   "outputs": [
    {
     "name": "stdout",
     "output_type": "stream",
     "text": [
      "120\n"
     ]
    }
   ],
   "source": [
    "arr=[92, 23, 15, -20, 10]\n",
    "print(sum(arr))"
   ]
  },
  {
   "cell_type": "markdown",
   "id": "d294a160-0bcb-4033-af97-40f1a2344ab4",
   "metadata": {},
   "source": [
    "Q.5 Given a number n. Print if it is an armstrong number or not.An armstrong number is a number if the sum\n",
    "of every digit in that number raised to the power of total digits in that number is equal to the number.\n",
    "Example : 153 = 1^3 + 5^3 + 3^3 = 1 + 125 + 27 = 153 hence 153 is an armstrong number. (Easy)\n",
    "Input1 : 153\n",
    "Output1 : Yes\n",
    "Input 2 : 134\n",
    "Output2 : No"
   ]
  },
  {
   "cell_type": "code",
   "execution_count": 5,
   "id": "189a4473-fd5b-42c2-acdd-4d312e80fbb6",
   "metadata": {},
   "outputs": [
    {
     "name": "stdin",
     "output_type": "stream",
     "text": [
      "Enter number to check armstrong number or not:-  153\n"
     ]
    },
    {
     "name": "stdout",
     "output_type": "stream",
     "text": [
      "Yes\n"
     ]
    }
   ],
   "source": [
    "n=input(\"Enter number to check armstrong number or not:- \")\n",
    "l=len(n)\n",
    "s=sum([int(i)**l for i in n])\n",
    "if int(n)==s:\n",
    "    print(\"Yes\")\n",
    "else:\n",
    "    print(\"No\")"
   ]
  },
  {
   "cell_type": "code",
   "execution_count": null,
   "id": "399de610-ef8c-4965-b2f9-f32733e46b06",
   "metadata": {},
   "outputs": [],
   "source": []
  }
 ],
 "metadata": {
  "kernelspec": {
   "display_name": "Python 3 (ipykernel)",
   "language": "python",
   "name": "python3"
  },
  "language_info": {
   "codemirror_mode": {
    "name": "ipython",
    "version": 3
   },
   "file_extension": ".py",
   "mimetype": "text/x-python",
   "name": "python",
   "nbconvert_exporter": "python",
   "pygments_lexer": "ipython3",
   "version": "3.10.8"
  }
 },
 "nbformat": 4,
 "nbformat_minor": 5
}
