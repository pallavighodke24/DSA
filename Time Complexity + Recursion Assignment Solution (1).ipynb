{
 "cells": [
  {
   "cell_type": "markdown",
   "id": "c3135128-7089-4847-ac10-fa2e51d4d0e1",
   "metadata": {},
   "source": [
    "Time Complexity + Recursion Assignment Solution"
   ]
  },
  {
   "cell_type": "markdown",
   "id": "284e83d0-4373-458d-8701-25fe3f1118f5",
   "metadata": {},
   "source": [
    "Problem 1 :\n",
    "    def quicksort(arr):\n",
    "if len(arr) <= 1:\n",
    "return arr\n",
    "pivot = arr[len(arr) // 2]\n",
    "left = [x for x in arr if x < pivot]\n",
    "middle = [x for x in arr if x == pivot]\n",
    "right = [x for x in arr if x > pivot]\n",
    "return quicksort(left) + middle + quicksort(right)"
   ]
  },
  {
   "cell_type": "code",
   "execution_count": 3,
   "id": "3d783eca-961b-4cb3-a71c-22b9a9d1d961",
   "metadata": {},
   "outputs": [
    {
     "name": "stdout",
     "output_type": "stream",
     "text": [
      "The time complexity of the above code is O(n*log(n)) This is because each time we divide the array in half, so we will have a total of log(n) divisions. In each division, we compare two elements to find the left and right element, which takes constant time. Therefore, the total time complexity is O(n*log(n))\n"
     ]
    }
   ],
   "source": [
    "\n",
    "print(\"The time complexity of the above code is O(n*log(n)) This is because each time we divide the array in half, so we will have a total of log(n) divisions. In each division, we compare two elements to find the left and right element, which takes constant time. Therefore, the total time complexity is O(n*log(n))\")"
   ]
  },
  {
   "cell_type": "markdown",
   "id": "9b38772c-ad75-4932-a638-994e002a1848",
   "metadata": {},
   "source": [
    "Problem 2 :\n",
    "   def nested_loop_example(matrix):\n",
    "rows, cols = len(matrix), len(matrix[0])\n",
    "total = 0\n",
    "for i in range(rows):\n",
    "for j in range(cols):\n",
    "total += matrix[i][j]\n",
    "return total "
   ]
  },
  {
   "cell_type": "code",
   "execution_count": 2,
   "id": "18f4d33f-f01d-4c0e-8a93-7df25018fdd2",
   "metadata": {},
   "outputs": [
    {
     "name": "stdout",
     "output_type": "stream",
     "text": [
      "The time complexity of the above code is O(n**2) because for finding lengths of rows and columns the interation go through all the matrix. \n"
     ]
    }
   ],
   "source": [
    "\n",
    "print(\"The time complexity of the above code is O(n**2) because for finding lengths of rows and columns the interation go through all the matrix. \")"
   ]
  },
  {
   "cell_type": "markdown",
   "id": "5bfaedc1-3847-4009-8f35-fd7b70885fd6",
   "metadata": {},
   "source": [
    "Problem 3 :\n",
    "  def example_function(arr):\n",
    "result = 0\n",
    "for element in arr:\n",
    "result += element\n",
    "return result  "
   ]
  },
  {
   "cell_type": "code",
   "execution_count": 4,
   "id": "b21b6b57-c6cb-4609-9323-fd18f417ec84",
   "metadata": {},
   "outputs": [
    {
     "name": "stdout",
     "output_type": "stream",
     "text": [
      "The time complexity of above code is O(n) because for adding element to the result the iteration go through whole array.\n"
     ]
    }
   ],
   "source": [
    "print(\"The time complexity of above code is O(n) because for adding element to the result the iteration go through whole array.\")"
   ]
  },
  {
   "cell_type": "markdown",
   "id": "1741a20a-af8e-47ed-93f9-ffe5c5fa569b",
   "metadata": {},
   "source": [
    "Problem 4 :\n",
    "def longest_increasing_subsequence(nums):\n",
    "n = len(nums)\n",
    "lis = [1] * n\n",
    "for i in range(1, n):\n",
    "for j in range(0, i):\n",
    "if nums[i] > nums[j] and lis[i] < lis[j] + 1:\n",
    "lis[i] = lis[j] + 1\n",
    "return max(lis)"
   ]
  },
  {
   "cell_type": "code",
   "execution_count": 5,
   "id": "8f6273e8-a55c-4520-a7e6-214cbadb146a",
   "metadata": {},
   "outputs": [
    {
     "name": "stdout",
     "output_type": "stream",
     "text": [
      "The time complexity of above code is O(n**2) This is because, in the worst case, for each element in the outer loop, you may have to compare it with all previous elements in the inner loop.\n"
     ]
    }
   ],
   "source": [
    "print(\"The time complexity of above code is O(n**2) This is because, in the worst case, for each element in the outer loop, you may have to compare it with all previous elements in the inner loop.\")"
   ]
  },
  {
   "cell_type": "markdown",
   "id": "b4523eaf-d57f-4066-a48a-8619cb30a37f",
   "metadata": {},
   "source": [
    "Problem 5 :\n",
    "def mysterious_function(arr):\n",
    "n = len(arr)\n",
    "result = 0\n",
    "for i in range(n):\n",
    "for j in range(i, n):\n",
    "result += arr[i] * arr[j]\n",
    "return result"
   ]
  },
  {
   "cell_type": "code",
   "execution_count": 6,
   "id": "ada2b3c9-0533-4833-b4c8-fd4a4c2b54d4",
   "metadata": {},
   "outputs": [
    {
     "name": "stdout",
     "output_type": "stream",
     "text": [
      "The time complexity of the given function is O(n^2) since the dominant term is the square of the input size n.\n"
     ]
    }
   ],
   "source": [
    "print(\"The time complexity of the given function is O(n^2) since the dominant term is the square of the input size n.\")"
   ]
  },
  {
   "cell_type": "markdown",
   "id": "df79ded2-9c7d-499a-bee6-09c0ff48d03a",
   "metadata": {},
   "source": [
    "Problems on recursion"
   ]
  },
  {
   "cell_type": "markdown",
   "id": "7002cc3f-1fcf-4eff-968f-ee628e216964",
   "metadata": {},
   "source": [
    "Problem 6 : Sum of Digits\n",
    "Write a recursive function to calculate the sum of digits of a given positive integer.\n",
    "sum_of_digits(123) -> 6"
   ]
  },
  {
   "cell_type": "code",
   "execution_count": 7,
   "id": "c078bd05-7eee-48b1-9839-1d292cd24206",
   "metadata": {},
   "outputs": [
    {
     "name": "stdout",
     "output_type": "stream",
     "text": [
      "6\n"
     ]
    }
   ],
   "source": [
    "def sum_of_digits(n):\n",
    "    if n < 10:\n",
    "        return n\n",
    "    else:\n",
    "        return n % 10 + sum_of_digits(n // 10)\n",
    "\n",
    "result = sum_of_digits(123)\n",
    "print(result)"
   ]
  },
  {
   "cell_type": "markdown",
   "id": "f58806e8-0395-4d81-8076-20c6210b0e8b",
   "metadata": {},
   "source": [
    "Problem 7: Fibonacci Series\n",
    "Write a recursive function to generate the first n numbers of the Fibonacci series.\n",
    "fibonacci_series(6) -> [0, 1, 1, 2, 3, 5]"
   ]
  },
  {
   "cell_type": "code",
   "execution_count": 8,
   "id": "2673a7bd-3f3b-4661-bc0d-9789e4c7975f",
   "metadata": {},
   "outputs": [
    {
     "name": "stdout",
     "output_type": "stream",
     "text": [
      "[0, 1, 1, 2, 3, 5]\n"
     ]
    }
   ],
   "source": [
    "def fibonacci_series(n):\n",
    "    if n == 0:\n",
    "        return []\n",
    "    elif n == 1:\n",
    "        return [0]\n",
    "    else:\n",
    "        series = fibonacci_series(n - 1)\n",
    "        series.append(series[-1] + series[-2] if len(series) >= 2 else 1)\n",
    "        return series\n",
    "\n",
    "n = 6\n",
    "result = fibonacci_series(n)\n",
    "print(result)"
   ]
  },
  {
   "cell_type": "markdown",
   "id": "19178768-e087-4417-8598-37003eb8b993",
   "metadata": {},
   "source": [
    "Problem 8 : Subset Sum\n",
    "Given a set of positive integers and a target sum, write a recursive function to determine if there exists a subset\n",
    "of the integers that adds up to the target sum.\n",
    "subset_sum([3, 34, 4, 12, 5, 2], 9) -> True"
   ]
  },
  {
   "cell_type": "code",
   "execution_count": 9,
   "id": "e942d0c9-3a1d-48d0-9134-a8aca2db32fd",
   "metadata": {},
   "outputs": [
    {
     "name": "stdout",
     "output_type": "stream",
     "text": [
      "True\n"
     ]
    }
   ],
   "source": [
    "def subset_sum(l,n):\n",
    "    s=sorted(l)\n",
    "    if len(s)==1 and s[0]!=n:\n",
    "        return \"False\"\n",
    "    elif s[0]+s[1]==n:\n",
    "        return \"True\"\n",
    "    else:\n",
    "        return subset_sum(s[1:],n)\n",
    "    \n",
    "result=subset_sum([3,34,4,12,5,2],9)\n",
    "print(result)"
   ]
  },
  {
   "cell_type": "markdown",
   "id": "b36eeeda-868f-49f1-a7a1-b056f81744d6",
   "metadata": {},
   "source": [
    "Problem 9: Word Break\n",
    "Given a non-empty string and a dictionary of words, write a recursive function to determine if the string can be\n",
    "segmented into a space-separated sequence of dictionary words.\n",
    "word_break( leetcode , [ leet , code ]) -> True"
   ]
  },
  {
   "cell_type": "code",
   "execution_count": 10,
   "id": "71e847aa-ee25-443b-8011-b8cd84c18a70",
   "metadata": {},
   "outputs": [
    {
     "name": "stdout",
     "output_type": "stream",
     "text": [
      "True\n"
     ]
    }
   ],
   "source": [
    "def word_break(s, word_dict):\n",
    "    if not s:\n",
    "        return True\n",
    "\n",
    "    for i in range(1, len(s) + 1):\n",
    "        prefix = s[:i]\n",
    "        if prefix in word_dict and word_break(s[i:], word_dict):\n",
    "            return True\n",
    "\n",
    "    return False\n",
    "\n",
    "string_to_check = \"leetcode\"\n",
    "dictionary = [\"leet\", \"code\"]\n",
    "\n",
    "result = word_break(string_to_check, dictionary)\n",
    "print(result)"
   ]
  },
  {
   "cell_type": "markdown",
   "id": "ec5cc9f4-29fd-45d5-8b5d-eb88589c077a",
   "metadata": {},
   "source": [
    "Problem 10 : N-Queens\n",
    "Implement a recursive function to solve the N Queens problem, where you have to place N queens on an N×N\n",
    "chessboard in such a way that no two queens threaten each other.\n",
    "n_queens(4)\n",
    "[\n",
    "[\".Q..\",\n",
    "\"...Q\",\n",
    "\"Q...\",\n",
    "\"..Q.\"],\n",
    "[\"..Q.\",\n",
    "\"Q...\",\n",
    "\"...Q\",\n",
    "\".Q..\"]\n",
    "]"
   ]
  },
  {
   "cell_type": "code",
   "execution_count": 11,
   "id": "5927ffec-b1e8-445a-a9ce-5e84f1080754",
   "metadata": {},
   "outputs": [
    {
     "name": "stdout",
     "output_type": "stream",
     "text": [
      "..Q.\n",
      "Q...\n",
      "...Q\n",
      ".Q..\n",
      "\n",
      ".Q..\n",
      "...Q\n",
      "Q...\n",
      "..Q.\n",
      "\n"
     ]
    }
   ],
   "source": [
    "def is_safe(board, row, col, n):\n",
    "    for i in range(col):\n",
    "        if board[row][i] == 'Q':\n",
    "            return False\n",
    "    \n",
    "    for i, j in zip(range(row, -1, -1), range(col, -1, -1)):\n",
    "        if board[i][j] == 'Q':\n",
    "            return False\n",
    "    \n",
    "    for i, j in zip(range(row, n), range(col, -1, -1)):\n",
    "        if board[i][j] == 'Q':\n",
    "            return False\n",
    "    \n",
    "    return True\n",
    "\n",
    "def solve_n_queens_util(board, col, n, result):\n",
    "    if col == n:\n",
    "        result.append([''.join(row) for row in board])\n",
    "        return\n",
    "    \n",
    "    for i in range(n):\n",
    "        if is_safe(board, i, col, n):\n",
    "            board[i][col] = 'Q'\n",
    "            solve_n_queens_util(board, col + 1, n, result)\n",
    "            board[i][col] = '.'  \n",
    "\n",
    "def n_queens(n):\n",
    "    board = [['.' for _ in range(n)] for _ in range(n)]\n",
    "    result = []\n",
    "    solve_n_queens_util(board, 0, n, result)\n",
    "    return result\n",
    "\n",
    "n = 4\n",
    "result = n_queens(n)\n",
    "for solution in result:\n",
    "    for row in solution:\n",
    "        print(row)\n",
    "    print()"
   ]
  },
  {
   "cell_type": "code",
   "execution_count": null,
   "id": "727a7acc-a6cd-4212-8bfc-11b6c44cc9e1",
   "metadata": {},
   "outputs": [],
   "source": []
  }
 ],
 "metadata": {
  "kernelspec": {
   "display_name": "Python 3 (ipykernel)",
   "language": "python",
   "name": "python3"
  },
  "language_info": {
   "codemirror_mode": {
    "name": "ipython",
    "version": 3
   },
   "file_extension": ".py",
   "mimetype": "text/x-python",
   "name": "python",
   "nbconvert_exporter": "python",
   "pygments_lexer": "ipython3",
   "version": "3.10.8"
  }
 },
 "nbformat": 4,
 "nbformat_minor": 5
}
