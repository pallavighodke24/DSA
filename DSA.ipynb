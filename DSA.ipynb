{
 "cells": [
  {
   "cell_type": "markdown",
   "id": "d2fc0f3e-d2a9-4a56-9052-d5b0232c326d",
   "metadata": {},
   "source": [
    "DSA Assignment Solutions"
   ]
  },
  {
   "cell_type": "markdown",
   "id": "a0267365-3323-48b6-a2dc-fba337baa0a9",
   "metadata": {},
   "source": [
    "Problem 1: Reverse a singly linked list.\n",
    "Input: 1 -> 2 -> 3 -> 4 -> 5\n",
    "Output: 5 -> 4 -> 3 -> 2 -> 1"
   ]
  },
  {
   "cell_type": "code",
   "execution_count": 1,
   "id": "e85fbbaa-2031-46b6-828f-5546ac73f547",
   "metadata": {},
   "outputs": [
    {
     "name": "stdout",
     "output_type": "stream",
     "text": [
      "5 --> 4 --> 3 --> 2 --> 1\n"
     ]
    }
   ],
   "source": [
    "class Node:\n",
    "    def __init__(self,data=None,next=None):\n",
    "        self.next=next\n",
    "        self.data=data\n",
    "class linkedlist:\n",
    "    def __init__(self):\n",
    "        self.head=None\n",
    "        \n",
    "    def insert_at_end(self, data):\n",
    "        if self.head is None:\n",
    "            self.head = Node(data, None)\n",
    "            return\n",
    "\n",
    "        itr = self.head\n",
    "\n",
    "        while itr.next:\n",
    "            itr = itr.next\n",
    "            \n",
    "        itr.next = Node(data, None)\n",
    "    \n",
    "    def reverse(self):\n",
    "        prev = None\n",
    "        current = self.head\n",
    "        while current is not None:\n",
    "            next_node = current.next\n",
    "            current.next = prev\n",
    "            prev = current\n",
    "            current = next_node\n",
    "        self.head = prev\n",
    "\n",
    "    def print_list(self):\n",
    "        itr = self.head\n",
    "        llstr = ''\n",
    "        while itr:\n",
    "            llstr += str(itr.data) + ' --> ' if itr.next else str(itr.data)\n",
    "            itr = itr.next\n",
    "        print(llstr)\n",
    "        \n",
    "    def insert_values(self,l):\n",
    "        self.head=None\n",
    "        for d in l:\n",
    "            self.insert_at_end(d)\n",
    "            \n",
    "l=linkedlist()\n",
    "l.insert_values([1,2,3,4,5])\n",
    "l.reverse()\n",
    "l.print_list()\n"
   ]
  },
  {
   "cell_type": "markdown",
   "id": "33b2dc31-a790-4d84-aeb8-6c2e555f3b51",
   "metadata": {},
   "source": [
    "Problem 2: Merge two sorted linked lists into one sorted linked list.\n",
    "Input: List 1: 1 -> 3 -> 5, List 2: 2 -> 4 -> 6\n",
    "Output: 1 -> 2 -> 3 -> 4 -> 5 -> 6"
   ]
  },
  {
   "cell_type": "code",
   "execution_count": 2,
   "id": "b12347b3-95b2-4ce6-b763-815e322b9431",
   "metadata": {},
   "outputs": [
    {
     "name": "stdout",
     "output_type": "stream",
     "text": [
      "1 --> 2 --> 3 --> 4 --> 5 --> 6\n"
     ]
    }
   ],
   "source": [
    "class Node:\n",
    "    def __init__(self,data=None,next=None):\n",
    "        self.next=next\n",
    "        self.data=data\n",
    "class linkedlist:\n",
    "    def __init__(self):\n",
    "        self.head=None\n",
    "        \n",
    "    def insert_at_end(self, a,d):\n",
    "        if self.head is None:\n",
    "            self.head = Node(a, None)\n",
    "            return\n",
    "\n",
    "        itr = self.head\n",
    "        while itr.next:\n",
    "                itr = itr.next\n",
    "        if itr.data == a:\n",
    "            itr.next = Node(d, None)\n",
    "        else:\n",
    "            itr.next = Node(a, None)\n",
    "            itr.next.next = Node(d, None)\n",
    "\n",
    "    def print_list(self):\n",
    "        itr = self.head\n",
    "        llstr = ''\n",
    "        while itr:\n",
    "            llstr += str(itr.data) + ' --> ' if itr.next else str(itr.data)\n",
    "            itr = itr.next\n",
    "        print(llstr)\n",
    "        \n",
    "    def insert_values(self,l1,l2):\n",
    "        self.head=None\n",
    "        self.insert_at_end(l1[0],0)\n",
    "        for a,d in zip(l1,l2):\n",
    "            self.insert_at_end(a,d)\n",
    "            \n",
    "l=linkedlist()\n",
    "l.insert_values([1,3,5],[2,4,6])\n",
    "l.print_list()"
   ]
  },
  {
   "cell_type": "markdown",
   "id": "da901a8e-1a2b-455d-af6f-1b9872f3e526",
   "metadata": {},
   "source": [
    "Problem 3: Remove the nth node from the end of a linked list.\n",
    "Input: 1 -> 2 -> 3 -> 4 -> 5, n = 2\n",
    "Output: 1 -> 2 -> 3 -> 5"
   ]
  },
  {
   "cell_type": "code",
   "execution_count": 3,
   "id": "14a01de9-18b5-4a14-8db4-465b34de3251",
   "metadata": {},
   "outputs": [
    {
     "name": "stdout",
     "output_type": "stream",
     "text": [
      "1 --> 2 --> 3 --> 5\n"
     ]
    }
   ],
   "source": [
    "class Node:\n",
    "    def __init__(self,data=None,next=None):\n",
    "        self.data=data\n",
    "        self.next=next\n",
    "class linkedlist:\n",
    "    def __init__(self):\n",
    "        self.head=None\n",
    "        \n",
    "    def insert_at_end(self,d):\n",
    "        if self.head is None:\n",
    "            self.head = Node(d, None)\n",
    "            return\n",
    "        itr = self.head\n",
    "        while itr.next:\n",
    "            itr=itr.next\n",
    "        itr.next = Node(d, None)\n",
    "        \n",
    "    def length(self):\n",
    "        count = 0\n",
    "        itr = self.head\n",
    "        while itr:\n",
    "            count += 1\n",
    "            itr=itr.next\n",
    "        return count\n",
    "    \n",
    "    def remove_from_end(self,n):\n",
    "        c=self.length()\n",
    "        a=1\n",
    "        itr=self.head\n",
    "        while itr:\n",
    "            if c-a == n:\n",
    "                itr.next = itr.next.next\n",
    "                break\n",
    "            else:\n",
    "                itr=itr.next\n",
    "                a+=1\n",
    "                \n",
    "    def print_list(self):\n",
    "        itr = self.head\n",
    "        llstr = ''\n",
    "        while itr:\n",
    "            llstr += str(itr.data) + ' --> ' if itr.next else str(itr.data)\n",
    "            itr = itr.next\n",
    "        print(llstr)\n",
    "                \n",
    "    def insert(self,l):\n",
    "        self.head = None\n",
    "        for d in l:\n",
    "            self.insert_at_end(d)\n",
    "            \n",
    "ll=linkedlist()\n",
    "ll.insert([1,2,3,4,5])\n",
    "ll.remove_from_end(2)\n",
    "ll.print_list()"
   ]
  },
  {
   "cell_type": "markdown",
   "id": "78082156-0a9b-40cf-bac4-500594a7e2a6",
   "metadata": {},
   "source": [
    "Problem 4: Find the intersection point of two linked lists.\n",
    "Input: List 1: 1 -> 2 -> 3 -> 4, List 2: 9 -> 8 -> 3 -> 4\n",
    "Output: Node with value 3"
   ]
  },
  {
   "cell_type": "code",
   "execution_count": 4,
   "id": "06d63456-92f5-4906-aaa2-ad2d822e2f6a",
   "metadata": {},
   "outputs": [
    {
     "name": "stdout",
     "output_type": "stream",
     "text": [
      "Intesection point is  3\n"
     ]
    }
   ],
   "source": [
    "class Node:\n",
    "    def __init__(self,data=None,next=None):\n",
    "        self.next=next\n",
    "        self.data=data\n",
    "class linkedlist:\n",
    "    def __init__(self):\n",
    "        self.head=None\n",
    "        \n",
    "    def insert_at_end(self, a,d):\n",
    "        if self.head is None:\n",
    "            self.head = Node(a, None)\n",
    "            return\n",
    "\n",
    "        itr = self.head\n",
    "        while itr.next:\n",
    "                itr = itr.next\n",
    "        if itr.data == a:\n",
    "            itr.next = Node(d, None)\n",
    "        else:\n",
    "            itr.next = Node(a, None)\n",
    "            itr.next.next = Node(d, None)\n",
    "\n",
    "    def print_list(self):\n",
    "        itr = self.head\n",
    "        while itr:\n",
    "            if itr.data == itr.next.data:\n",
    "                print(\"Intesection point is \",itr.data)\n",
    "                break\n",
    "            else:\n",
    "                itr=itr.next.next\n",
    "            \n",
    "        \n",
    "    def insert_values(self,l1,l2):\n",
    "        self.head=None\n",
    "        self.insert_at_end(l1[0],0)\n",
    "        for a,d in zip(l1,l2):\n",
    "            self.insert_at_end(a,d)\n",
    "            \n",
    "l=linkedlist()\n",
    "l.insert_values([1,2,3,4],[9,8,3,4])\n",
    "l.print_list()"
   ]
  },
  {
   "cell_type": "markdown",
   "id": "cbb501cb-8262-4fed-ab9a-fa708e9bd956",
   "metadata": {},
   "source": [
    "Problem 5: Remove duplicates from a sorted linked list.\n",
    "Input: 1 -> 1 -> 2 -> 3 -> 3\n",
    "Output: 1 -> 2 -> 3"
   ]
  },
  {
   "cell_type": "code",
   "execution_count": 5,
   "id": "d3b79728-571e-4acb-9039-5a39b3df2ec4",
   "metadata": {},
   "outputs": [
    {
     "name": "stdout",
     "output_type": "stream",
     "text": [
      "1-->2-->3\n"
     ]
    }
   ],
   "source": [
    "class Node:\n",
    "    def __init__(self,data=None,next=None):\n",
    "        self.next=next\n",
    "        self.data=data\n",
    "class linkedlist:\n",
    "    def __init__(self):\n",
    "        self.head=None\n",
    "        \n",
    "    def insert_at_end(self, a):\n",
    "        if self.head is None:\n",
    "            self.head = Node(a, None)\n",
    "            return\n",
    "\n",
    "        itr = self.head\n",
    "        while itr:\n",
    "            if itr.data == a:\n",
    "                break\n",
    "            elif itr.next:\n",
    "                itr=itr.next\n",
    "            else:\n",
    "                itr.next = Node(a, None)\n",
    "\n",
    "    def print_list(self):\n",
    "        itr = self.head\n",
    "        s=\"\"\n",
    "        while itr:\n",
    "            s+=str(itr.data)+\"-->\" if itr.next else str(itr.data)\n",
    "            itr = itr.next\n",
    "        print(s)    \n",
    "        \n",
    "    def insert_values(self,l1):\n",
    "        self.head=None\n",
    "        for a in l1:\n",
    "            self.insert_at_end(a)\n",
    "            \n",
    "l=linkedlist()\n",
    "l.insert_values([1,1,2,3,3])\n",
    "l.print_list()"
   ]
  },
  {
   "cell_type": "markdown",
   "id": "15802843-87ed-4bb1-b36b-9f869ab24f85",
   "metadata": {},
   "source": [
    "Problem 6: Add two numbers represented by linked lists (where each node contains a single digit).\n",
    "Input: List 1: 2 -> 4 -> 3, List 2: 5 -> 6 -> 4 (represents 342 + 465)\n",
    "Output: 7 -> 0 -> 8 (represents 807)"
   ]
  },
  {
   "cell_type": "code",
   "execution_count": 6,
   "id": "988dbcb4-7b15-4707-b074-91d6ef2552ea",
   "metadata": {},
   "outputs": [
    {
     "name": "stdout",
     "output_type": "stream",
     "text": [
      "7 --> 0 --> 8\n"
     ]
    }
   ],
   "source": [
    "class ListNode:\n",
    "    def __init__(self, value=0, next=None):\n",
    "        self.value = value\n",
    "        self.next = next\n",
    "\n",
    "def add_linked_lists(l1, l2):\n",
    "    dummy_head = ListNode()\n",
    "    current = dummy_head\n",
    "    carry = 0\n",
    "\n",
    "    while l1 or l2 or carry:\n",
    "        value1 = l1.value if l1 else 0\n",
    "        value2 = l2.value if l2 else 0\n",
    "\n",
    "        total = value1 + value2 + carry\n",
    "        carry, remainder = divmod(total, 10)\n",
    "\n",
    "        current.next = ListNode(remainder)\n",
    "        current = current.next\n",
    "\n",
    "        l1 = l1.next if l1 else None\n",
    "        l2 = l2.next if l2 else None\n",
    "\n",
    "    return dummy_head.next\n",
    "\n",
    "list1 = ListNode(2, ListNode(4, ListNode(3)))\n",
    "list2 = ListNode(5, ListNode(6, ListNode(4)))\n",
    "\n",
    "result = add_linked_lists(list1, list2)\n",
    "\n",
    "s=\"\"\n",
    "while result:\n",
    "    s+=str(result.value)+\" --> \" if result.next else str(result.value) \n",
    "    result = result.next\n",
    "\n",
    "print(s)"
   ]
  },
  {
   "cell_type": "markdown",
   "id": "6dab425f-a6be-4eb3-a5ea-adf3afa57a02",
   "metadata": {},
   "source": [
    "Problem 7: Swap nodes in pairs in a linked list.\n",
    "Input: 1 -> 2 -> 3 -> 4\n",
    "Output: 2 -> 1 -> 4 -> 3"
   ]
  },
  {
   "cell_type": "code",
   "execution_count": 7,
   "id": "4f318eb4-d0ab-49ab-b30d-a37acde1d2f8",
   "metadata": {},
   "outputs": [
    {
     "name": "stdout",
     "output_type": "stream",
     "text": [
      "2 --> 1 --> 4 --> 3\n"
     ]
    }
   ],
   "source": [
    "class ListNode:\n",
    "    def __init__(self, value=0, next=None):\n",
    "        self.value = value\n",
    "        self.next = next\n",
    "\n",
    "def swapPairs(head):\n",
    "    if not head or not head.next:\n",
    "        return head\n",
    "    \n",
    "    dummy = ListNode(0)\n",
    "    dummy.next = head\n",
    "    current = dummy\n",
    "\n",
    "    while current.next and current.next.next:\n",
    "        first_node = current.next\n",
    "        second_node = current.next.next\n",
    "\n",
    "        first_node.next = second_node.next\n",
    "        second_node.next = first_node\n",
    "        current.next = second_node\n",
    "\n",
    "        current = current.next.next\n",
    "\n",
    "    return dummy.next\n",
    "\n",
    "head = ListNode(1, ListNode(2, ListNode(3, ListNode(4))))\n",
    "result = swapPairs(head)\n",
    "s=\"\"\n",
    "while result:\n",
    "    s+=str(result.value)+\" --> \" if result.next else str(result.value)\n",
    "    result = result.next\n",
    "\n",
    "print(s)"
   ]
  },
  {
   "cell_type": "markdown",
   "id": "948745fe-3e87-4a03-a353-e259567fe4c5",
   "metadata": {},
   "source": [
    "Problem 8: Reverse nodes in a linked list in groups of k.\n",
    "Input: 1 -> 2 -> 3 -> 4 -> 5, k = 3\n",
    "Output: 3 -> 2 -> 1 -> 4 -> 5"
   ]
  },
  {
   "cell_type": "code",
   "execution_count": 8,
   "id": "ed8883c5-dcb7-424e-9269-5726999c25bf",
   "metadata": {},
   "outputs": [
    {
     "name": "stdout",
     "output_type": "stream",
     "text": [
      "3 -> 2 -> 1 -> 4 -> 5\n"
     ]
    }
   ],
   "source": [
    "class ListNode:\n",
    "    def __init__(self, val=0, next=None):\n",
    "        self.val = val\n",
    "        self.next = next\n",
    "\n",
    "def reverse_k_group(head, k):\n",
    "    if not head or k == 1:\n",
    "        return head\n",
    "\n",
    "    length = 0\n",
    "    temp = head\n",
    "    while temp:\n",
    "        length += 1\n",
    "        temp = temp.next\n",
    "\n",
    "    dummy = ListNode(0)\n",
    "    dummy.next = head\n",
    "    prev_group_end = dummy\n",
    "    curr_group_start = head\n",
    "\n",
    "    while length >= k:\n",
    "        group_end = curr_group_start\n",
    "        group_prev = None\n",
    "\n",
    "        for _ in range(k):\n",
    "            next_node = curr_group_start.next\n",
    "            curr_group_start.next = group_prev\n",
    "            group_prev = curr_group_start\n",
    "            curr_group_start = next_node\n",
    "\n",
    "        prev_group_end.next = group_prev\n",
    "        group_end.next = curr_group_start\n",
    "\n",
    "        prev_group_end = group_end\n",
    "        length -= k\n",
    "\n",
    "    return dummy.next\n",
    "\n",
    "head = ListNode(1, ListNode(2, ListNode(3, ListNode(4, ListNode(5)))))\n",
    "k = 3\n",
    "result = reverse_k_group(head, k)\n",
    "s=\"\"\n",
    "while result:\n",
    "    s+=str(result.val)+\" -> \" if result.next else str(result.val)\n",
    "    result = result.next\n",
    "print(s)"
   ]
  },
  {
   "cell_type": "markdown",
   "id": "baaf8315-f33d-4eab-bd9a-98605223b7d2",
   "metadata": {},
   "source": [
    "Problem 9: Determine if a linked list is a palindrome.\n",
    "Input: 1 -> 2 -> 2 -> 1\n",
    "Output: True"
   ]
  },
  {
   "cell_type": "code",
   "execution_count": 9,
   "id": "d4883c63-ed8a-4350-b63a-f11b5dda2709",
   "metadata": {},
   "outputs": [
    {
     "name": "stdout",
     "output_type": "stream",
     "text": [
      "True\n"
     ]
    }
   ],
   "source": [
    "class ListNode:\n",
    "    def __init__(self, value=0, next=None):\n",
    "        self.value = value\n",
    "        self.next = next\n",
    "\n",
    "def is_palindrome(head):\n",
    "    values = []\n",
    "    \n",
    "    current = head\n",
    "    while current:\n",
    "        values.append(current.value)\n",
    "        current = current.next\n",
    "    \n",
    "    return values == values[::-1]\n",
    "\n",
    "head = ListNode(1, ListNode(2, ListNode(2, ListNode(1))))\n",
    "result = is_palindrome(head)\n",
    "print(result) "
   ]
  },
  {
   "cell_type": "markdown",
   "id": "efaff70d-517b-4130-9323-5c070d131eba",
   "metadata": {},
   "source": [
    "Problem 10: Rotate a linked list to the right by k places.\n",
    "Input: 1 -> 2 -> 3 -> 4 -> 5, k = 2\n",
    "Output: 4 -> 5 -> 1 -> 2 -> 3"
   ]
  },
  {
   "cell_type": "code",
   "execution_count": 10,
   "id": "a3b12aac-0328-476f-8e3d-73c2f872c985",
   "metadata": {},
   "outputs": [
    {
     "name": "stdout",
     "output_type": "stream",
     "text": [
      "4 --> 5 --> 1 --> 2 --> 3\n"
     ]
    }
   ],
   "source": [
    "class ListNode:\n",
    "    def __init__(self, val=0, next=None):\n",
    "        self.val = val\n",
    "        self.next = next\n",
    "\n",
    "def rotateRight(head, k):\n",
    "    if not head or k == 0:\n",
    "        return head\n",
    "\n",
    "    length = 1\n",
    "    current = head\n",
    "    while current.next:\n",
    "        current = current.next\n",
    "        length += 1\n",
    "\n",
    "    k = k % length\n",
    "\n",
    "    if k == 0:\n",
    "        return head\n",
    "\n",
    "    current = head\n",
    "    for _ in range(length - k - 1):\n",
    "        current = current.next\n",
    "\n",
    "    new_head = current.next\n",
    "    current.next = None\n",
    "    current = new_head\n",
    "    while current.next:\n",
    "        current = current.next\n",
    "\n",
    "    current.next = head\n",
    "\n",
    "    return new_head\n",
    "\n",
    "head = ListNode(1, ListNode(2, ListNode(3, ListNode(4, ListNode(5)))))\n",
    "rotated_head = rotateRight(head, 2)\n",
    "s=\"\"\n",
    "while rotated_head:\n",
    "    s+=str(rotated_head.val)+\" --> \" if rotated_head.next else str(rotated_head.val)\n",
    "    rotated_head = rotated_head.next\n",
    "\n",
    "print(s)"
   ]
  },
  {
   "cell_type": "markdown",
   "id": "f47dfcce-8830-4444-970a-47b583a07d2a",
   "metadata": {},
   "source": [
    "Problem 11: Flatten a multilevel doubly linked list.\n",
    "Input: 1 <-> 2 <-> 3 <-> 7 <-> 8 <-> 11 -> 12, 4 <-> 5 -> 9 -> 10, 6 -> 13\n",
    "Output: 1 <-> 2 <-> 3 <-> 4 <-> 5 <-> 6 <-> 7 <-> 8 <-> 9 <-> 10 <-> 11 <-> 12 <-> 13"
   ]
  },
  {
   "cell_type": "code",
   "execution_count": 36,
   "id": "de58d604-bd34-41b9-b078-28aa622b69bb",
   "metadata": {},
   "outputs": [],
   "source": [
    "class Node:\n",
    "    def __init__(self, val, prev=None, next=None, child=None):\n",
    "        self.val = val\n",
    "        self.prev = prev\n",
    "        self.next = next\n",
    "        self.child = child\n",
    "\n",
    "def flatten(head):\n",
    "    if not head:\n",
    "        return None\n",
    "\n",
    "    stack = []\n",
    "    current = head\n",
    "\n",
    "    while current:\n",
    "        if current.child:\n",
    "            if current.next:\n",
    "                stack.append(current.next)\n",
    "            current.next = current.child\n",
    "            current.child.prev = current\n",
    "            current.child = None\n",
    "        elif not current.next and stack:\n",
    "            current.next = stack.pop()\n",
    "            if current.next:\n",
    "                current.next.prev = current\n",
    "        current = current.next\n",
    "\n",
    "    return head\n",
    "\n",
    "def print_list(head):\n",
    "    current = head\n",
    "    while current:\n",
    "        print(current.val, end=\" <-> \")\n",
    "        current = current.next\n",
    "    print(\"None\")\n",
    "\n",
    "# Example usage:\n",
    "# Constructing the input multilevel doubly linked list\n",
    "head = Node(1)\n",
    "head.next = Node(2)\n",
    "head.next.prev = head\n",
    "head.next.next = Node(3)\n",
    "head.next.next.prev = head.next\n",
    "head.next.next.next = Node(7)\n",
    "head.next.next.next.prev = head.next.next\n",
    "head.next.next.next.next = Node(8)\n",
    "head.next.next.next.next.prev = head.next.next.next\n",
    "head.next.next.next.next.next = Node(11)\n",
    "head.next.next.next.next.next.prev = head.next.next.next.next\n",
    "head.next.next.next.next.next.next = Node(12)\n",
    "head.next.next.next.next.next.next.prev = head.next.next.next.next.next\n",
    "head.next.next.next.next.next.next.next = Node(4)\n",
    "head.next.next.next.next.next.next.next.prev = head.next.next.next.next.next.next\n",
    "head.next.next.next.next.next.next.next.next = Node(5)\n",
    "head.next.next.next.next.next.next.next.next.prev = head.next.next.next.next.next.next.next\n",
    "head.next.next.next.next.next.next.next.next.next = Node(9)\n",
    "head.next.next.next.next.next.next.next.next.next.prev = head.next.next.next.next.next.next.next"
   ]
  },
  {
   "cell_type": "code",
   "execution_count": 37,
   "id": "67604884-97ae-4194-a573-9267f97b395d",
   "metadata": {},
   "outputs": [
    {
     "data": {
      "text/plain": [
       "<__main__.Node at 0x7f373c20c520>"
      ]
     },
     "execution_count": 37,
     "metadata": {},
     "output_type": "execute_result"
    }
   ],
   "source": [
    "head.next.next.next.next.next.next.next.next.next.next = Node(10)\n",
    "head.next.next.next.next.next.next.next.next.next.next.prev = head.next.next.next.next.next.next.next.next.next\n",
    "head.next.next.next.next.next.next.next.next.next.next.next = Node(6)\n",
    "head.next.next.next.next.next.next.next.next.next.next.next.prev = head.next.next.next.next.next.next.next.next.next.next\n",
    "head.next.next.next.next.next.next.next.next.next.next.next.next = Node(13)\n",
    "head.next.next.next.next.next.next.next.next.next.next.next.next.prev = head.next.next.next.next.next.next.next.next.next.next.next\n",
    "\n",
    "# Setting up child relationships\n",
    "head.next.next.child = Node(4)\n",
    "head.next.next.child.next = Node(5)\n",
    "head.next.next.child.next.child = Node(9)\n",
    "head.next.next.child.next.child.next = Node(10)\n",
    "\n",
    "head.next.next.next.next.next.next.child = Node(6)\n",
    "head.next.next.next.next"
   ]
  },
  {
   "cell_type": "code",
   "execution_count": 38,
   "id": "f7ce64d9-4801-4bb8-97a2-925ff15f156c",
   "metadata": {},
   "outputs": [
    {
     "name": "stdout",
     "output_type": "stream",
     "text": [
      "1 <-> 2 <-> 3 <-> 4 <-> 5 <-> 9 <-> 10 <-> 7 <-> 8 <-> 11 <-> 12 <-> 6 <-> 4 <-> 5 <-> 9 <-> 10 <-> 6 <-> 13 <-> None\n"
     ]
    }
   ],
   "source": [
    "# Flattening the list\n",
    "head = flatten(head)\n",
    "\n",
    "# Printing the flattened list\n",
    "print_list(head)"
   ]
  },
  {
   "cell_type": "markdown",
   "id": "d862e5d1-0fbe-4208-ae55-95c2640ae627",
   "metadata": {},
   "source": [
    "Problem 12: Rearrange a linked list such that all even positioned nodes are placed at the end.\n",
    "Input: 1 -> 2 -> 3 -> 4 -> 5\n",
    "Output: 1 -> 3 -> 5 -> 2 -> 4"
   ]
  },
  {
   "cell_type": "code",
   "execution_count": 12,
   "id": "1b9e1611-8eba-47db-bd3f-94b2576d659d",
   "metadata": {},
   "outputs": [
    {
     "name": "stdout",
     "output_type": "stream",
     "text": [
      "1 --> 3 --> 5 --> 2 --> 4\n"
     ]
    }
   ],
   "source": [
    "class ListNode:\n",
    "    def __init__(self, value=0, next=None):\n",
    "        self.value = value\n",
    "        self.next = next\n",
    "\n",
    "def rearrange_linked_list(head):\n",
    "    if not head or not head.next:\n",
    "        return head\n",
    "\n",
    "    odd_head = ListNode()\n",
    "    even_head = ListNode()\n",
    "    odd_current = odd_head\n",
    "    even_current = even_head\n",
    "\n",
    "    current = head\n",
    "    is_odd = True\n",
    "\n",
    "    while current:\n",
    "        if is_odd:\n",
    "            odd_current.next = current\n",
    "            odd_current = odd_current.next\n",
    "        else:\n",
    "            even_current.next = current\n",
    "            even_current = even_current.next\n",
    "\n",
    "        is_odd = not is_odd\n",
    "        current = current.next\n",
    "\n",
    "    odd_current.next = even_head.next\n",
    "    even_current.next = None  \n",
    "\n",
    "    return odd_head.next\n",
    "\n",
    "input_head = ListNode(1, ListNode(2, ListNode(3, ListNode(4, ListNode(5)))))\n",
    "\n",
    "output_head = rearrange_linked_list(input_head)\n",
    "s=\"\"\n",
    "while output_head:\n",
    "    s+=str(output_head.value)+\" --> \" if output_head.next else str(output_head.value)\n",
    "    output_head = output_head.next\n",
    "print(s)"
   ]
  },
  {
   "cell_type": "markdown",
   "id": "7c9d14a1-480b-4e9d-b810-6998f09cec29",
   "metadata": {},
   "source": [
    "Problem 13: Given a non-negative number represented as a linked list, add one to it.\n",
    "Input: 1 -> 2 -> 3 (represents the number 123)\n",
    "Output: 1 -> 2 -> 4 (represents the number 124)"
   ]
  },
  {
   "cell_type": "code",
   "execution_count": 13,
   "id": "4d423c2e-f222-4e76-85b6-48803dd3bd27",
   "metadata": {},
   "outputs": [
    {
     "name": "stdout",
     "output_type": "stream",
     "text": [
      "1 --> 2 --> 4\n"
     ]
    }
   ],
   "source": [
    "class ListNode:\n",
    "    def __init__(self, value=0, next=None):\n",
    "        self.value = value\n",
    "        self.next = next\n",
    "\n",
    "def add_one_to_linked_list(head):\n",
    "    prev = None\n",
    "    current = head\n",
    "    while current:\n",
    "        next_node = current.next\n",
    "        current.next = prev\n",
    "        prev = current\n",
    "        current = next_node\n",
    "    head = prev\n",
    "\n",
    "    current = head\n",
    "    carry = 1  \n",
    "    while current:\n",
    "        total = current.value + carry\n",
    "        current.value = total % 10\n",
    "        carry = total // 10\n",
    "        if not current.next and carry:\n",
    "            current.next = ListNode(carry)\n",
    "        current = current.next\n",
    "\n",
    "    prev = None\n",
    "    current = head\n",
    "    while current:\n",
    "        next_node = current.next\n",
    "        current.next = prev\n",
    "        prev = current\n",
    "        current = next_node\n",
    "    head = prev\n",
    "\n",
    "    return head\n",
    "\n",
    "input_linked_list = ListNode(1, ListNode(2, ListNode(3)))\n",
    "result = add_one_to_linked_list(input_linked_list)\n",
    "s=\"\"\n",
    "while result:\n",
    "    s+=str(result.value)+\" --> \" if result.next else str(result.value)\n",
    "    result = result.next\n",
    "print(s)"
   ]
  },
  {
   "cell_type": "markdown",
   "id": "320177e4-779e-4eb3-ab97-4c9b8f4dbba8",
   "metadata": {},
   "source": [
    "Problem 14: Given a sorted array and a target value, return the index if the target is found. If not, return the\n",
    "index where it would be inserted.\n",
    "Input: nums = [1, 3, 5, 6], target = 5\n",
    "Output: 2"
   ]
  },
  {
   "cell_type": "code",
   "execution_count": 14,
   "id": "41effd6f-e9ea-4ea6-ae72-6b52829c893d",
   "metadata": {},
   "outputs": [
    {
     "name": "stdout",
     "output_type": "stream",
     "text": [
      "2\n"
     ]
    }
   ],
   "source": [
    "nums=[1,3,5,6]\n",
    "n=5\n",
    "for i in range(len(nums)):\n",
    "    if nums[i] == n:\n",
    "        print(i)\n",
    "        break\n",
    "    elif nums[i] > n:\n",
    "        print(i)\n",
    "        break"
   ]
  },
  {
   "cell_type": "markdown",
   "id": "b0c5f036-9d69-4897-a6c3-adebee84c1fe",
   "metadata": {},
   "source": [
    "Problem 15: Find the minimum element in a rotated sorted array.\n",
    "Input: [4, 5, 6, 7, 0, 1, 2]\n",
    "Output: 0"
   ]
  },
  {
   "cell_type": "code",
   "execution_count": 15,
   "id": "7a2dac77-c2a3-4c5e-9529-619939117bba",
   "metadata": {},
   "outputs": [
    {
     "name": "stdout",
     "output_type": "stream",
     "text": [
      "0\n"
     ]
    }
   ],
   "source": [
    "def find_min_in_rotated_array(nums):\n",
    "    left, right = 0, len(nums) - 1\n",
    "\n",
    "    while left < right:\n",
    "        mid = (left + right) // 2\n",
    "\n",
    "        if nums[mid] > nums[right]:\n",
    "            left = mid + 1\n",
    "        else:\n",
    "            right = mid\n",
    "\n",
    "    return nums[left]\n",
    "\n",
    "nums = [4, 5, 6, 7, 0, 1, 2]\n",
    "result = find_min_in_rotated_array(nums)\n",
    "print(result)"
   ]
  },
  {
   "cell_type": "markdown",
   "id": "e0858596-7b90-4c2c-9cf6-8d286d85548f",
   "metadata": {},
   "source": [
    "Problem 16: Search for a target value in a rotated sorted array.\n",
    "Input: nums = [4, 5, 6, 7, 0, 1, 2], target = 0\n",
    "Output: 4"
   ]
  },
  {
   "cell_type": "code",
   "execution_count": 16,
   "id": "bb651199-1f05-4add-aab1-642a99ee4c18",
   "metadata": {},
   "outputs": [
    {
     "name": "stdout",
     "output_type": "stream",
     "text": [
      "4\n"
     ]
    }
   ],
   "source": [
    "def find_min_in_rotated_array(nums):\n",
    "    left, right = 0, len(nums) - 1\n",
    "\n",
    "    while left < right:\n",
    "        mid = (left + right) // 2\n",
    "\n",
    "        if nums[mid] > nums[right]:\n",
    "            left = mid + 1\n",
    "        else:\n",
    "            right = mid\n",
    "\n",
    "    return left\n",
    "\n",
    "nums = [4, 5, 6, 7, 0, 1, 2]\n",
    "result = find_min_in_rotated_array(nums)\n",
    "print(result)"
   ]
  },
  {
   "cell_type": "markdown",
   "id": "880a5e81-19aa-462f-a06d-57c06ceb78c8",
   "metadata": {},
   "source": [
    "Problem 17: Find the peak element in an array. A peak element is greater than its neighbors.\n",
    "Input: nums = [1, 2, 3, 1]\n",
    "Output: 2 (index of peak element)"
   ]
  },
  {
   "cell_type": "code",
   "execution_count": 17,
   "id": "4a94827d-0dab-4e94-ba96-b056fad2fa93",
   "metadata": {},
   "outputs": [
    {
     "name": "stdout",
     "output_type": "stream",
     "text": [
      "2\n"
     ]
    }
   ],
   "source": [
    "n=[1,2,3,1]\n",
    "for i in range(1,len(n)-1):\n",
    "    if n[i-1]<n[i] and n[i]>n[i+1]:\n",
    "        print(i)"
   ]
  },
  {
   "cell_type": "markdown",
   "id": "3f4e36c7-ab01-4bf4-83d5-58d1307769b7",
   "metadata": {},
   "source": [
    "Problem 18: Given a m x n matrix where each row and column is sorted in ascending order, count the number\n",
    "of negative numbers.\n",
    "Input: grid = [[4, 3, 2, -1], [3, 2, 1, -1], [1, 1, -1, -2], [-1, -1, -2, -3]]\n",
    "Output: 8"
   ]
  },
  {
   "cell_type": "code",
   "execution_count": 18,
   "id": "4444daad-1106-4e59-b513-026da92010a0",
   "metadata": {},
   "outputs": [
    {
     "name": "stdout",
     "output_type": "stream",
     "text": [
      "8\n"
     ]
    }
   ],
   "source": [
    "l = [[4, 3, 2, -1], [3, 2, 1, -1], [1, 1, -1, -2], [-1, -1, -2, -3]]\n",
    "count=0\n",
    "for i in range(len(l)):\n",
    "    for j in range(len(l)):\n",
    "        if l[i][j] < 0:\n",
    "            count += 1\n",
    "print(count)"
   ]
  },
  {
   "cell_type": "markdown",
   "id": "aa18e3b3-d173-4eac-b0d5-06b81d0a7fcb",
   "metadata": {},
   "source": [
    "Problem 19: Given a 2D matrix sorted in ascending order in each row, and the first integer of each row is\n",
    "greater than the last integer of the previous row, determine if a target value is present in the matrix.\n",
    "Input: matrix = [[1, 3, 5, 7], [10, 11, 16, 20], [23, 30, 34, 60]], target = 3\n",
    "Output: True"
   ]
  },
  {
   "cell_type": "code",
   "execution_count": 19,
   "id": "422c7562-d76a-43bb-bf00-fd575519d430",
   "metadata": {},
   "outputs": [
    {
     "name": "stdout",
     "output_type": "stream",
     "text": [
      "True\n"
     ]
    }
   ],
   "source": [
    "m = [[1, 3, 5, 7], [10, 11, 16, 20], [23, 30, 34, 60]]\n",
    "n=3\n",
    "s=[i for l in m for i in l if i == n]\n",
    "if len(s) > 0:\n",
    "    print(\"True\")\n",
    "else:\n",
    "    print(\"False\")"
   ]
  },
  {
   "cell_type": "markdown",
   "id": "e834dac3-be52-4602-b44e-d3963c2ec80b",
   "metadata": {},
   "source": [
    "Problem 20: Find Median in Two Sorted Arrays\n",
    "Problem: Given two sorted arrays, find the median of the combined sorted array.\n",
    "Input: nums1 = [1, 3], nums2 = [2]\n",
    "Output: 2.0"
   ]
  },
  {
   "cell_type": "code",
   "execution_count": 20,
   "id": "72b281a8-6279-4b7f-86a3-63917bff1990",
   "metadata": {},
   "outputs": [
    {
     "name": "stdout",
     "output_type": "stream",
     "text": [
      "2\n"
     ]
    }
   ],
   "source": [
    "l1=[1,3]\n",
    "l2=[2]\n",
    "for i in l2:\n",
    "    for j in range(len(l1)):\n",
    "        if i < l1[j]:\n",
    "            l1.insert(j, i)\n",
    "l=len(l1)//2\n",
    "print(l1[l])"
   ]
  },
  {
   "cell_type": "markdown",
   "id": "ed821f32-6114-43fc-a959-f7044c7101ba",
   "metadata": {},
   "source": [
    "Problem 21: Given a sorted character array and a target letter, find the smallest letter in the array that is\n",
    "greater than the target.\n",
    "Input: letters = ['c', 'f', 'j'], target = a\n",
    "Output: 'c'"
   ]
  },
  {
   "cell_type": "code",
   "execution_count": 21,
   "id": "71227c3c-812c-4792-b770-dc0faa717a22",
   "metadata": {},
   "outputs": [
    {
     "name": "stdout",
     "output_type": "stream",
     "text": [
      "c\n"
     ]
    }
   ],
   "source": [
    "l = ['c', 'f', 'j']\n",
    "t = 'a'\n",
    "for i in l:\n",
    "    if ascii(i) > ascii(t):\n",
    "        print(i)\n",
    "        break"
   ]
  },
  {
   "cell_type": "markdown",
   "id": "54150129-c42e-4c90-8491-677cd4683e76",
   "metadata": {},
   "source": [
    "Problem 22: Given an array with n objects colored red, white, or blue, sort them in-place so that objects of\n",
    "the same color are adjacent, with the colors in the order red, white, and blue.\n",
    "Input: nums = [2, 0, 2, 1, 1, 0]\n",
    "Output: [0, 0, 1, 1, 2, 2]"
   ]
  },
  {
   "cell_type": "code",
   "execution_count": 22,
   "id": "7fe8d2d3-33a4-453b-92e2-2423c1b52547",
   "metadata": {},
   "outputs": [
    {
     "name": "stdout",
     "output_type": "stream",
     "text": [
      "[0, 0, 1, 1, 2, 2]\n"
     ]
    }
   ],
   "source": [
    "n=[2,0,2,1,1,0]\n",
    "s=sorted(n)\n",
    "print(s)"
   ]
  },
  {
   "cell_type": "markdown",
   "id": "1958ee10-6b98-42e3-8266-c1c57b385741",
   "metadata": {},
   "source": [
    "Problem 23: Find the kth largest element in an unsorted array.\n",
    "Input: nums = [3, 2, 1, 5, 6, 4], k = 2\n",
    "Output: 5"
   ]
  },
  {
   "cell_type": "code",
   "execution_count": 23,
   "id": "78b68b78-188f-4c3a-89d2-48ab62471942",
   "metadata": {},
   "outputs": [
    {
     "name": "stdout",
     "output_type": "stream",
     "text": [
      "5\n"
     ]
    }
   ],
   "source": [
    "def find_kth_largest(nums, k):\n",
    "    sorted_nums = sorted(nums, reverse=True)\n",
    "    return sorted_nums[k - 1]\n",
    "\n",
    "nums = [3, 2, 1, 5, 6, 4]\n",
    "k = 2\n",
    "result = find_kth_largest(nums, k)\n",
    "print(result)"
   ]
  },
  {
   "cell_type": "markdown",
   "id": "30b5dc14-80f1-46e7-8c6b-03e2a4467af3",
   "metadata": {},
   "source": [
    "Problem 24: Given an unsorted array, reorder it in-place such that nums[0] <= nums[1] >= nums[2] <= nums[3]...\n",
    "Input: nums = [3, 5, 2, 1, 6, 4]\n",
    "Output: [3, 5, 1, 6, 2, 4]"
   ]
  },
  {
   "cell_type": "code",
   "execution_count": 24,
   "id": "eae03e6c-7997-46e4-be0e-daf4bbff7bda",
   "metadata": {},
   "outputs": [
    {
     "name": "stdout",
     "output_type": "stream",
     "text": [
      "[3, 5, 2, 6, 1, 4]\n"
     ]
    }
   ],
   "source": [
    "nums=[3,5,2,1,6,4]\n",
    "i=0\n",
    "while i<len(nums)-1:\n",
    "    if nums[i] > nums[i+1]:\n",
    "        i+=1\n",
    "        if nums[i] < nums[i-1]:\n",
    "            nums[i], nums[i+1] = nums[i+1], nums[i]\n",
    "            i+=2\n",
    "    else:\n",
    "        i+=2\n",
    "        \n",
    "print(nums)"
   ]
  },
  {
   "cell_type": "markdown",
   "id": "46ea340d-f16d-4830-a4b9-fe6c38cd336e",
   "metadata": {},
   "source": [
    "Problem 25: Given an array of integers, calculate the sum of all its elements.\n",
    "Input: [1, 2, 3, 4, 5]\n",
    "Output: 15"
   ]
  },
  {
   "cell_type": "code",
   "execution_count": 25,
   "id": "a4f78aa8-d7ed-455f-970d-c3b9e13c734a",
   "metadata": {},
   "outputs": [
    {
     "name": "stdout",
     "output_type": "stream",
     "text": [
      "15\n"
     ]
    }
   ],
   "source": [
    "n=[1,2,3,4,5]\n",
    "sum=0\n",
    "for i in n:\n",
    "    sum+=i\n",
    "print(sum)"
   ]
  },
  {
   "cell_type": "markdown",
   "id": "65061d22-27cd-4c24-bd26-03be6ec35254",
   "metadata": {},
   "source": [
    "Problem 26: Find the maximum element in an array of integers.\n",
    "Input: [3, 7, 2, 9, 4, 1]\n",
    "Output: 9"
   ]
  },
  {
   "cell_type": "code",
   "execution_count": 26,
   "id": "54eb21eb-badb-47ae-8386-86e8e940ecd0",
   "metadata": {},
   "outputs": [
    {
     "name": "stdout",
     "output_type": "stream",
     "text": [
      "9\n"
     ]
    }
   ],
   "source": [
    "l=[3,7,2,9,4,1]\n",
    "max=0\n",
    "for i in l:\n",
    "    if max < i:\n",
    "        max = i\n",
    "print(max)"
   ]
  },
  {
   "cell_type": "markdown",
   "id": "00f63978-f532-4d73-9c0d-d604bb1cc12f",
   "metadata": {},
   "source": [
    "Problem 27: Implement linear search to find the index of a target element in an array.\n",
    "Input: [5, 3, 8, 2, 7, 4], target = 8\n",
    "Output: 2"
   ]
  },
  {
   "cell_type": "code",
   "execution_count": 27,
   "id": "87eea0ef-49b8-4258-8c73-37d4cc47e138",
   "metadata": {},
   "outputs": [
    {
     "name": "stdout",
     "output_type": "stream",
     "text": [
      "2\n"
     ]
    }
   ],
   "source": [
    "l=[5,3,8,2,7,4]\n",
    "n=8\n",
    "for i in range(len(l)):\n",
    "    if l[i] == n:\n",
    "        print(i)"
   ]
  },
  {
   "cell_type": "markdown",
   "id": "1b2a0314-a508-423d-84f6-fe5b733adb64",
   "metadata": {},
   "source": [
    "Problem 28 Calculate the factorial of a given number.\n",
    "Input: 5\n",
    "Output: 120 (as 5! = 5 * 4 * 3 * 2 * 1 = 120)"
   ]
  },
  {
   "cell_type": "code",
   "execution_count": 28,
   "id": "cdc38c5c-1f98-42db-ab44-5038a6677b59",
   "metadata": {},
   "outputs": [
    {
     "name": "stdout",
     "output_type": "stream",
     "text": [
      "120\n"
     ]
    }
   ],
   "source": [
    "def fact(n):\n",
    "    if n==0 or n==1:\n",
    "        return 1\n",
    "    else:\n",
    "        return n*fact(n-1)\n",
    "n=5\n",
    "result=fact(n)\n",
    "print(result)"
   ]
  },
  {
   "cell_type": "markdown",
   "id": "b72d7757-be0f-4970-8e32-73e3e1bc2cad",
   "metadata": {},
   "source": [
    "Problem 29: Check if a given number is a prime number.\n",
    "Input: 7\n",
    "Output: True"
   ]
  },
  {
   "cell_type": "code",
   "execution_count": 29,
   "id": "69cb13d7-4d1c-4410-a6cd-cc547e94f1b9",
   "metadata": {},
   "outputs": [
    {
     "name": "stdout",
     "output_type": "stream",
     "text": [
      "True\n"
     ]
    }
   ],
   "source": [
    "def prime(n):\n",
    "    count=0\n",
    "    for i in range(2,n+1):\n",
    "        if n % i == 0:\n",
    "            count+=1\n",
    "    if count > 1:\n",
    "        return \"False\"\n",
    "    else:\n",
    "        return \"True\"\n",
    "n=7\n",
    "result=prime(n)\n",
    "print(result)"
   ]
  },
  {
   "cell_type": "markdown",
   "id": "be138a1d-438e-43d6-b21c-4a2774f39678",
   "metadata": {},
   "source": [
    "Problem 30: Generate the Fibonacci series up to a given number n.\n",
    "Input: 8\n",
    "Output: [0, 1, 1, 2, 3, 5, 8, 13]"
   ]
  },
  {
   "cell_type": "code",
   "execution_count": 30,
   "id": "7ccf2624-efaa-4b1f-8414-3a7a7c9ec693",
   "metadata": {},
   "outputs": [
    {
     "name": "stdout",
     "output_type": "stream",
     "text": [
      "0 1 1 2 3 5 8 13 "
     ]
    }
   ],
   "source": [
    "n=8\n",
    "f=0\n",
    "s=1\n",
    "while n>0:\n",
    "    print(f, end=\" \")\n",
    "    temp=f\n",
    "    f=s\n",
    "    s=temp+s\n",
    "    n-=1"
   ]
  },
  {
   "cell_type": "markdown",
   "id": "387ae297-9986-4908-96e7-22367a437d7c",
   "metadata": {},
   "source": [
    "Problem 31: Calculate the power of a number using recursion.\n",
    "Input: base = 3, exponent = 4\n",
    "Output: 81 (as 3^4 = 3 * 3 * 3 * 3 = 81)"
   ]
  },
  {
   "cell_type": "code",
   "execution_count": 31,
   "id": "dbc016fd-ade9-422b-b78a-892f132496c4",
   "metadata": {},
   "outputs": [
    {
     "name": "stdout",
     "output_type": "stream",
     "text": [
      "81\n"
     ]
    }
   ],
   "source": [
    "\n",
    "def power(n,e):\n",
    "    if e == 0:\n",
    "        return \"1\"\n",
    "    elif e == 1:\n",
    "        return n\n",
    "    else:\n",
    "        return n*power(n,e-1)\n",
    "n=3\n",
    "e=4\n",
    "result=power(n,e)\n",
    "print(result)"
   ]
  },
  {
   "cell_type": "markdown",
   "id": "9a1042bb-7721-4502-a44d-a82101ff4fc3",
   "metadata": {},
   "source": [
    "Problem 32: Reverse a given string.\n",
    "Input: \"hello\"\n",
    "Output: \"olleh\""
   ]
  },
  {
   "cell_type": "code",
   "execution_count": 32,
   "id": "ddb15a30-ca17-413a-8fb5-9dd83999acc1",
   "metadata": {},
   "outputs": [
    {
     "name": "stdout",
     "output_type": "stream",
     "text": [
      "olleh\n"
     ]
    }
   ],
   "source": [
    "s=\"hello\"\n",
    "s1=\"\"\n",
    "for i in range(len(s)-1,-1,-1):\n",
    "    s1+=s[i]\n",
    "print(s1)"
   ]
  },
  {
   "cell_type": "code",
   "execution_count": null,
   "id": "07f74618-5592-41d8-b809-77faeed10413",
   "metadata": {},
   "outputs": [],
   "source": []
  }
 ],
 "metadata": {
  "kernelspec": {
   "display_name": "Python 3 (ipykernel)",
   "language": "python",
   "name": "python3"
  },
  "language_info": {
   "codemirror_mode": {
    "name": "ipython",
    "version": 3
   },
   "file_extension": ".py",
   "mimetype": "text/x-python",
   "name": "python",
   "nbconvert_exporter": "python",
   "pygments_lexer": "ipython3",
   "version": "3.10.8"
  }
 },
 "nbformat": 4,
 "nbformat_minor": 5
}
